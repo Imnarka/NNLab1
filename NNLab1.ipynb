{
 "cells": [
  {
   "cell_type": "markdown",
   "metadata": {},
   "source": [
    "# Лабораторная работа №1\n",
    "## Выполнил: студент гр. БНИ-19-01 Л.Р.Фазлыхаков"
   ]
  },
  {
   "cell_type": "code",
   "execution_count": 258,
   "metadata": {},
   "outputs": [],
   "source": [
    "import random\n",
    "import os\n",
    "import numpy as np"
   ]
  },
  {
   "cell_type": "markdown",
   "metadata": {},
   "source": [
    "###### Обущающая выборка"
   ]
  },
  {
   "cell_type": "code",
   "execution_count": 259,
   "metadata": {},
   "outputs": [],
   "source": [
    "num0 = list('111101101101111')\n",
    "num1 = list('001001001001001')\n",
    "num2 = list('111001111100111')\n",
    "num3 = list('111001111001111')\n",
    "num4 = list('101101111001001')\n",
    "num5 = list('111100111001111')\n",
    "num6 = list('111100111101111')\n",
    "num7 = list('111001001001001')\n",
    "num8 = list('111101111101111')\n",
    "num9 = list('111101111001111')"
   ]
  },
  {
   "cell_type": "code",
   "execution_count": 260,
   "metadata": {},
   "outputs": [],
   "source": [
    "nums = [num0, num1, num2, num3, num4, num5, num6, num7, num8, num9]"
   ]
  },
  {
   "cell_type": "code",
   "execution_count": 261,
   "metadata": {},
   "outputs": [],
   "source": [
    "num00 = list('111101101101111')\n",
    "num01 = list('111101101101110')\n",
    "num02 = list('111111101101111')\n",
    "num03 = list('111100001101111')\n",
    "num04 = list('110101100101111')\n",
    "num05 = list('111101101100011')\n",
    "nums0 = [num00, num01, num02, num03, num04, num05]"
   ]
  },
  {
   "cell_type": "code",
   "execution_count": 262,
   "metadata": {},
   "outputs": [],
   "source": [
    "num10 = list('001000001001001')\n",
    "num11 = list('000001001001001')\n",
    "num12 = list('001011001001001')\n",
    "num13 = list('001000001001001')\n",
    "num14 = list('001001000001001')\n",
    "num15 = list('111101101100011')\n",
    "nums1 = [num10, num12, num13, num14, num15]"
   ]
  },
  {
   "cell_type": "code",
   "execution_count": 263,
   "metadata": {},
   "outputs": [],
   "source": [
    "num20 = list('111001111100111')\n",
    "num21 = list('111001101100111')\n",
    "num22 = list('111001111100101')\n",
    "num23 = list('111001011100111')\n",
    "num24 = list('110001001010011')\n",
    "num25 = list('011001110100111')\n",
    "nums2 = [num20, num21, num22, num23, num24, num25]"
   ]
  },
  {
   "cell_type": "code",
   "execution_count": 264,
   "metadata": {},
   "outputs": [],
   "source": [
    "num30 = list('111001111001111')\n",
    "num31 = list('111001111001111')\n",
    "num32 = list('111001111001111')\n",
    "num33 = list('111001011100111')\n",
    "num34 = list('111001011010111')\n",
    "num35 = list('111001111001110')\n",
    "nums3 = [num30, num31, num32, num33, num34, num35]"
   ]
  },
  {
   "cell_type": "code",
   "execution_count": 265,
   "metadata": {},
   "outputs": [],
   "source": [
    "num40 = list('101101111001001')\n",
    "num41 = list('101001111001001')\n",
    "num42 = list('101101101001001')\n",
    "num43 = list('101101111001000')\n",
    "num44 = list('000101101111001')\n",
    "num45 = list('001011101111001')\n",
    "nums4 = [num40, num41, num42, num43, num44, num45]"
   ]
  },
  {
   "cell_type": "code",
   "execution_count": 266,
   "metadata": {},
   "outputs": [],
   "source": [
    "num50 = list('111100010001111')\n",
    "num51 = list('111100010001111')\n",
    "num52 = list('111100011001111')\n",
    "num53 = list('101101111001000')\n",
    "num54 = list('111100111001111')\n",
    "num55 = list('101001110010111')\n",
    "nums5 = [num50, num51, num52, num53, num54, num55]"
   ]
  },
  {
   "cell_type": "code",
   "execution_count": 267,
   "metadata": {},
   "outputs": [],
   "source": [
    "num60 = list('111100111101111')\n",
    "num61 = list('111100111101011')\n",
    "num62 = list('111110111101111')\n",
    "num63 = list('111100110101111')\n",
    "nums6 = [num60, num61, num62, num63]"
   ]
  },
  {
   "cell_type": "code",
   "execution_count": 268,
   "metadata": {},
   "outputs": [],
   "source": [
    "num70 = list('111001000001001')\n",
    "num71 = list('111001001001001')\n",
    "num72 = list('110001001001001')\n",
    "num73 = list('111001001001101')\n",
    "nums7 = [num70, num71, num72, num73]"
   ]
  },
  {
   "cell_type": "code",
   "execution_count": 269,
   "metadata": {},
   "outputs": [],
   "source": [
    "num80 = list('111101111101111')\n",
    "num81 = list('111101111100111')\n",
    "num82 = list('110101111101111')\n",
    "num83 = list('111101111111111')\n",
    "nums8 = [num80, num81, num82, num83]"
   ]
  },
  {
   "cell_type": "code",
   "execution_count": 270,
   "metadata": {},
   "outputs": [],
   "source": [
    "num90 = list('111101111001110')\n",
    "num91 = list('011101111001111')\n",
    "num92 = list('111101111001111')\n",
    "num93 = list('101101111001111')\n",
    "nums9 = [num90, num91, num92, num93]"
   ]
  },
  {
   "cell_type": "code",
   "execution_count": 271,
   "metadata": {},
   "outputs": [],
   "source": [
    "test_nums = [nums0, nums1, nums2, nums3, nums4, nums5, nums6, nums7, nums8, nums9]"
   ]
  },
  {
   "cell_type": "markdown",
   "metadata": {},
   "source": [
    "###### Инициализация весов"
   ]
  },
  {
   "cell_type": "code",
   "execution_count": 272,
   "metadata": {},
   "outputs": [],
   "source": [
    "weights = [i for i in range(15)]\n",
    "weightsList = [weights for i in range(10)]"
   ]
  },
  {
   "cell_type": "markdown",
   "metadata": {},
   "source": [
    "###### Порог функции активации"
   ]
  },
  {
   "cell_type": "code",
   "execution_count": 273,
   "metadata": {},
   "outputs": [],
   "source": [
    "bias = 7"
   ]
  },
  {
   "cell_type": "markdown",
   "metadata": {},
   "source": [
    "###### Вычисление взвешанной суммы и сравнение с порогом функции активации"
   ]
  },
  {
   "cell_type": "code",
   "execution_count": 274,
   "metadata": {},
   "outputs": [],
   "source": [
    "def proceed(number, n):\n",
    "    net = 0\n",
    "    for i in range(15):\n",
    "        net += int(number[i])*weightsList[n][i]\n",
    "    return net >= bias"
   ]
  },
  {
   "cell_type": "markdown",
   "metadata": {},
   "source": [
    "###### Уменьшение значения весов при ошибке и возврате 1"
   ]
  },
  {
   "cell_type": "code",
   "execution_count": 275,
   "metadata": {},
   "outputs": [],
   "source": [
    "def decrease(number, n):\n",
    "    for i in range(15):\n",
    "        if int(number[i]) == 1:\n",
    "            weightsList[n][i] -= 1"
   ]
  },
  {
   "cell_type": "markdown",
   "metadata": {},
   "source": [
    "###### Уменьшение значения весов при ошибке и возврате 0"
   ]
  },
  {
   "cell_type": "code",
   "execution_count": 276,
   "metadata": {},
   "outputs": [],
   "source": [
    "def increase(number, n):\n",
    "    for i in range(15):\n",
    "        if int(number[i]) == 1:\n",
    "            weightsList[n][i] += 1"
   ]
  },
  {
   "cell_type": "markdown",
   "metadata": {},
   "source": [
    "###### Тренировка нейронной сети"
   ]
  },
  {
   "cell_type": "code",
   "execution_count": 277,
   "metadata": {},
   "outputs": [],
   "source": [
    "def Train():\n",
    "    for i in range(10):\n",
    "        for j in range(10000):\n",
    "            option = random.randint(0, 9)\n",
    "            if option != i:\n",
    "                if proceed(nums[option], i):\n",
    "                    decrease(nums[option], i)\n",
    "            else:\n",
    "                if not proceed(nums[i], i):\n",
    "                    increase(nums[i], i)"
   ]
  },
  {
   "cell_type": "code",
   "execution_count": 278,
   "metadata": {},
   "outputs": [],
   "source": [
    "Train()"
   ]
  },
  {
   "cell_type": "markdown",
   "metadata": {},
   "source": [
    "###### Тесты"
   ]
  },
  {
   "cell_type": "code",
   "execution_count": 285,
   "metadata": {},
   "outputs": [
    {
     "name": "stdout",
     "output_type": "stream",
     "text": [
      "0 это 0 ?: False\n",
      "1 это 0 ?: False\n",
      "2 это 0 ?: False\n",
      "3 это 0 ?: False\n",
      "4 это 0 ?: False\n",
      "5 это 0 ?: False\n",
      "6 это 0 ?: False\n",
      "7 это 0 ?: False\n",
      "8 это 0 ?: False\n",
      "9 это 0 ?: True\n",
      "0 это 1 ?: False\n",
      "1 это 1 ?: False\n",
      "2 это 1 ?: False\n",
      "3 это 1 ?: False\n",
      "4 это 1 ?: False\n",
      "5 это 1 ?: False\n",
      "6 это 1 ?: False\n",
      "7 это 1 ?: False\n",
      "8 это 1 ?: False\n",
      "9 это 1 ?: True\n",
      "0 это 2 ?: False\n",
      "1 это 2 ?: False\n",
      "2 это 2 ?: False\n",
      "3 это 2 ?: False\n",
      "4 это 2 ?: False\n",
      "5 это 2 ?: False\n",
      "6 это 2 ?: False\n",
      "7 это 2 ?: False\n",
      "8 это 2 ?: False\n",
      "9 это 2 ?: True\n",
      "0 это 3 ?: False\n",
      "1 это 3 ?: False\n",
      "2 это 3 ?: False\n",
      "3 это 3 ?: False\n",
      "4 это 3 ?: False\n",
      "5 это 3 ?: False\n",
      "6 это 3 ?: False\n",
      "7 это 3 ?: False\n",
      "8 это 3 ?: False\n",
      "9 это 3 ?: True\n",
      "0 это 4 ?: False\n",
      "1 это 4 ?: False\n",
      "2 это 4 ?: False\n",
      "3 это 4 ?: False\n",
      "4 это 4 ?: False\n",
      "5 это 4 ?: False\n",
      "6 это 4 ?: False\n",
      "7 это 4 ?: False\n",
      "8 это 4 ?: False\n",
      "9 это 4 ?: True\n",
      "0 это 5 ?: False\n",
      "1 это 5 ?: False\n",
      "2 это 5 ?: False\n",
      "3 это 5 ?: False\n",
      "4 это 5 ?: False\n",
      "5 это 5 ?: False\n",
      "6 это 5 ?: False\n",
      "7 это 5 ?: False\n",
      "8 это 5 ?: False\n",
      "9 это 5 ?: True\n",
      "0 это 6 ?: False\n",
      "1 это 6 ?: False\n",
      "2 это 6 ?: False\n",
      "3 это 6 ?: False\n",
      "4 это 6 ?: False\n",
      "5 это 6 ?: False\n",
      "6 это 6 ?: False\n",
      "7 это 6 ?: False\n",
      "8 это 6 ?: False\n",
      "9 это 6 ?: True\n",
      "0 это 7 ?: False\n",
      "1 это 7 ?: False\n",
      "2 это 7 ?: False\n",
      "3 это 7 ?: False\n",
      "4 это 7 ?: False\n",
      "5 это 7 ?: False\n",
      "6 это 7 ?: False\n",
      "7 это 7 ?: False\n",
      "8 это 7 ?: False\n",
      "9 это 7 ?: True\n",
      "0 это 8 ?: False\n",
      "1 это 8 ?: False\n",
      "2 это 8 ?: False\n",
      "3 это 8 ?: False\n",
      "4 это 8 ?: False\n",
      "5 это 8 ?: False\n",
      "6 это 8 ?: False\n",
      "7 это 8 ?: False\n",
      "8 это 8 ?: False\n",
      "9 это 8 ?: True\n",
      "0 это 9 ?: False\n",
      "1 это 9 ?: False\n",
      "2 это 9 ?: False\n",
      "3 это 9 ?: False\n",
      "4 это 9 ?: False\n",
      "5 это 9 ?: False\n",
      "6 это 9 ?: False\n",
      "7 это 9 ?: False\n",
      "8 это 9 ?: False\n",
      "9 это 9 ?: True\n"
     ]
    }
   ],
   "source": [
    "for i in range(10):\n",
    "    for j in range(10):\n",
    "        print(f'{j} это {i} ?: {proceed(nums[j], i)}')"
   ]
  },
  {
   "cell_type": "code",
   "execution_count": 281,
   "metadata": {},
   "outputs": [
    {
     "name": "stdout",
     "output_type": "stream",
     "text": [
      "Узнал 0/0? False\n",
      "Узнал 0/1? False\n",
      "Узнал 0/2? False\n",
      "Узнал 0/3? False\n",
      "Узнал 0/4? True\n",
      "Узнал 0/5? False\n",
      "*******************************\n",
      "Узнал 1/0? False\n",
      "Узнал 1/1? False\n",
      "Узнал 1/2? False\n",
      "Узнал 1/3? False\n",
      "Узнал 1/4? False\n",
      "*******************************\n",
      "Узнал 2/0? False\n",
      "Узнал 2/1? False\n",
      "Узнал 2/2? False\n",
      "Узнал 2/3? False\n",
      "Узнал 2/4? True\n",
      "Узнал 2/5? False\n",
      "*******************************\n",
      "Узнал 3/0? False\n",
      "Узнал 3/1? False\n",
      "Узнал 3/2? False\n",
      "Узнал 3/3? False\n",
      "Узнал 3/4? True\n",
      "Узнал 3/5? False\n",
      "*******************************\n",
      "Узнал 4/0? False\n",
      "Узнал 4/1? False\n",
      "Узнал 4/2? False\n",
      "Узнал 4/3? False\n",
      "Узнал 4/4? True\n",
      "Узнал 4/5? False\n",
      "*******************************\n",
      "Узнал 5/0? True\n",
      "Узнал 5/1? True\n",
      "Узнал 5/2? True\n",
      "Узнал 5/3? False\n",
      "Узнал 5/4? False\n",
      "Узнал 5/5? True\n",
      "*******************************\n",
      "Узнал 6/0? False\n",
      "Узнал 6/1? False\n",
      "Узнал 6/2? False\n",
      "Узнал 6/3? False\n",
      "*******************************\n",
      "Узнал 7/0? False\n",
      "Узнал 7/1? False\n",
      "Узнал 7/2? True\n",
      "Узнал 7/3? False\n",
      "*******************************\n",
      "Узнал 8/0? False\n",
      "Узнал 8/1? False\n",
      "Узнал 8/2? True\n",
      "Узнал 8/3? True\n",
      "*******************************\n",
      "Узнал 9/0? False\n",
      "Узнал 9/1? True\n",
      "Узнал 9/2? True\n",
      "Узнал 9/3? False\n",
      "*******************************\n"
     ]
    }
   ],
   "source": [
    "for i in range(10):\n",
    "    for j in range(len(test_nums[i])):\n",
    "        print(f\"Узнал {i}/{j}?\", proceed(test_nums[i][j], i))\n",
    "    print('*******************************')"
   ]
  },
  {
   "cell_type": "code",
   "execution_count": null,
   "metadata": {},
   "outputs": [],
   "source": []
  },
  {
   "cell_type": "code",
   "execution_count": null,
   "metadata": {},
   "outputs": [],
   "source": []
  }
 ],
 "metadata": {
  "kernelspec": {
   "display_name": "Python 3",
   "language": "python",
   "name": "python3"
  },
  "language_info": {
   "codemirror_mode": {
    "name": "ipython",
    "version": 3
   },
   "file_extension": ".py",
   "mimetype": "text/x-python",
   "name": "python",
   "nbconvert_exporter": "python",
   "pygments_lexer": "ipython3",
   "version": "3.8.5"
  }
 },
 "nbformat": 4,
 "nbformat_minor": 4
}
